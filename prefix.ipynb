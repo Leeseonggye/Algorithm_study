{
  "nbformat": 4,
  "nbformat_minor": 0,
  "metadata": {
    "colab": {
      "name": "prefix.ipynb",
      "provenance": [],
      "collapsed_sections": [],
      "authorship_tag": "ABX9TyMqzOoFBicsxKvYHVdcCT8u",
      "include_colab_link": true
    },
    "kernelspec": {
      "name": "python3",
      "display_name": "Python 3"
    },
    "language_info": {
      "name": "python"
    }
  },
  "cells": [
    {
      "cell_type": "markdown",
      "metadata": {
        "id": "view-in-github",
        "colab_type": "text"
      },
      "source": [
        "<a href=\"https://colab.research.google.com/github/Leeseonggye/Algorithm_study/blob/main/prefix.ipynb\" target=\"_parent\"><img src=\"https://colab.research.google.com/assets/colab-badge.svg\" alt=\"Open In Colab\"/></a>"
      ]
    },
    {
      "cell_type": "code",
      "execution_count": 6,
      "metadata": {
        "id": "v_7Q1EeCjuqd"
      },
      "outputs": [],
      "source": [
        "strs = [\"dogsss\",\"racecar\",\"car\",\"apple\"]"
      ]
    },
    {
      "cell_type": "code",
      "source": [
        "class Solution(object):\n",
        "    def longestCommonPrefix(self, strs):\n",
        "        \"\"\"\n",
        "        :type strs: List[str]\n",
        "        :rtype: str\n",
        "        \"\"\"\n",
        "        if not strs:                               \n",
        "            return \"\"\n",
        "\n",
        "        min_str = min(strs)                        \n",
        "        max_str = max(strs)                        \n",
        "\n",
        "        for index, char in enumerate(min_str):\n",
        "            if char != max_str[index]:              \n",
        "                return min_str[:index]             \n",
        "        return min_str \n",
        "\n"
      ],
      "metadata": {
        "id": "Pml_wlrEj45r"
      },
      "execution_count": 17,
      "outputs": []
    }
  ]
}