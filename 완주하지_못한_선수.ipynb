{
  "nbformat": 4,
  "nbformat_minor": 0,
  "metadata": {
    "colab": {
      "name": "완주하지 못한 선수.ipynb",
      "provenance": [],
      "collapsed_sections": [],
      "authorship_tag": "ABX9TyNEKk87Tw6LW32KxZDvjXuA",
      "include_colab_link": true
    },
    "kernelspec": {
      "name": "python3",
      "display_name": "Python 3"
    },
    "language_info": {
      "name": "python"
    }
  },
  "cells": [
    {
      "cell_type": "markdown",
      "metadata": {
        "id": "view-in-github",
        "colab_type": "text"
      },
      "source": [
        "<a href=\"https://colab.research.google.com/github/Leeseonggye/Algorithm_study/blob/main/%EC%99%84%EC%A3%BC%ED%95%98%EC%A7%80_%EB%AA%BB%ED%95%9C_%EC%84%A0%EC%88%98.ipynb\" target=\"_parent\"><img src=\"https://colab.research.google.com/assets/colab-badge.svg\" alt=\"Open In Colab\"/></a>"
      ]
    },
    {
      "cell_type": "code",
      "metadata": {
        "id": "femPJs0-ouUe"
      },
      "source": [
        "def solution(participant, completion):\n",
        "    answer = ''\n",
        "    \n",
        "    participant.sort()\n",
        "    completion.sort()\n",
        "    \n",
        "    completion.append('last_dummy')\n",
        "    \n",
        "    for i in range(len(participant)):\n",
        "        if participant[i] != completion[i]:\n",
        "            answer = participant[i]\n",
        "            break\n",
        "        else:\n",
        "            pass\n",
        "    \n",
        "    return answer"
      ],
      "execution_count": null,
      "outputs": []
    }
  ]
}