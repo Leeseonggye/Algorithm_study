{
  "nbformat": 4,
  "nbformat_minor": 0,
  "metadata": {
    "colab": {
      "name": "DartScore_kakao.ipynb",
      "provenance": [],
      "authorship_tag": "ABX9TyMpMmvRAZC1A7m9IJBiN3TD",
      "include_colab_link": true
    },
    "kernelspec": {
      "name": "python3",
      "display_name": "Python 3"
    },
    "language_info": {
      "name": "python"
    }
  },
  "cells": [
    {
      "cell_type": "markdown",
      "metadata": {
        "id": "view-in-github",
        "colab_type": "text"
      },
      "source": [
        "<a href=\"https://colab.research.google.com/github/Leeseonggye/Algorithm_study/blob/main/DartScore_kakao.ipynb\" target=\"_parent\"><img src=\"https://colab.research.google.com/assets/colab-badge.svg\" alt=\"Open In Colab\"/></a>"
      ]
    },
    {
      "cell_type": "code",
      "metadata": {
        "colab": {
          "base_uri": "https://localhost:8080/"
        },
        "id": "2RFnQ1vj8dY-",
        "outputId": "9a89d7a9-d648-47ec-a6c7-d6351adc21cf"
      },
      "source": [
        "dartResult = input('결과를 입력하세요')"
      ],
      "execution_count": 115,
      "outputs": [
        {
          "output_type": "stream",
          "text": [
            "결과를 입력하세요1D2S#10S\n"
          ],
          "name": "stdout"
        }
      ]
    },
    {
      "cell_type": "code",
      "metadata": {
        "colab": {
          "base_uri": "https://localhost:8080/",
          "height": 36
        },
        "id": "4lDyplcB9bV8",
        "outputId": "c45e21ee-9231-4039-db20-4d06fa0be1ba"
      },
      "source": [
        "dartResult[5:7]"
      ],
      "execution_count": 107,
      "outputs": [
        {
          "output_type": "execute_result",
          "data": {
            "application/vnd.google.colaboratory.intrinsic+json": {
              "type": "string"
            },
            "text/plain": [
              "'10'"
            ]
          },
          "metadata": {
            "tags": []
          },
          "execution_count": 107
        }
      ]
    },
    {
      "cell_type": "code",
      "metadata": {
        "id": "YkqeFcqrK2AE"
      },
      "source": [
        "Resultlist = []\n",
        "\n",
        "for i in range(len(dartResult)):\n",
        "  Resultlist.append(dartResult[i])\n",
        "\n",
        "for i in range(len(dartResult)-2):\n",
        "  if Resultlist[i]+Resultlist[i+1] == '10':\n",
        "    Resultlist[i] = '10'\n",
        "    Resultlist.pop(i+1)"
      ],
      "execution_count": 116,
      "outputs": []
    },
    {
      "cell_type": "code",
      "metadata": {
        "colab": {
          "base_uri": "https://localhost:8080/"
        },
        "id": "ty5tYfV7LyIO",
        "outputId": "a1a140fd-809f-4ce3-a959-b7ce2424fbdc"
      },
      "source": [
        "Resultlist"
      ],
      "execution_count": 117,
      "outputs": [
        {
          "output_type": "execute_result",
          "data": {
            "text/plain": [
              "['1', 'D', '2', 'S', '#', '10', 'S']"
            ]
          },
          "metadata": {
            "tags": []
          },
          "execution_count": 117
        }
      ]
    },
    {
      "cell_type": "code",
      "metadata": {
        "id": "1uO2Txjw_E7j"
      },
      "source": [
        "for i in range(2,len(Resultlist),3):\n",
        "  if Resultlist[i] == '*' or Resultlist[i] == '#' or Resultlist[i] == '&':\n",
        "    pass\n",
        "  else:\n",
        "    Resultlist.insert(i,\"&\")\n",
        "\n",
        "if Resultlist[-1] == '*' or Resultlist[-1] == '#':\n",
        "  pass\n",
        "else :\n",
        "  Resultlist.append('&')\n"
      ],
      "execution_count": 118,
      "outputs": []
    },
    {
      "cell_type": "code",
      "metadata": {
        "colab": {
          "base_uri": "https://localhost:8080/"
        },
        "id": "5gM6tj0KB2VH",
        "outputId": "2e093e60-5ccf-4baf-fd3f-ee78313dc751"
      },
      "source": [
        "Resultlist"
      ],
      "execution_count": 119,
      "outputs": [
        {
          "output_type": "execute_result",
          "data": {
            "text/plain": [
              "['1', 'D', '&', '2', 'S', '#', '10', 'S', '&']"
            ]
          },
          "metadata": {
            "tags": []
          },
          "execution_count": 119
        }
      ]
    },
    {
      "cell_type": "code",
      "metadata": {
        "id": "7cF-683YCBt9"
      },
      "source": [
        "def Numericization(Resultlist):\n",
        "  for i in range(len(Resultlist)):\n",
        "    if Resultlist[i] == 'S' or Resultlist[i] == '&':\n",
        "      Resultlist[i] =1\n",
        "    elif Resultlist[i] == 'D' or Resultlist[i] == '*':\n",
        "      Resultlist[i] =2\n",
        "    elif Resultlist[i] == 'T':\n",
        "      Resultlist[i] = 3\n",
        "    elif Resultlist[i] == '#':\n",
        "      Resultlist[i] = -1\n",
        "  for i in range(len(Resultlist)):\n",
        "    Resultlist[i] = int(Resultlist[i])\n",
        "  \n",
        "  return Resultlist\n",
        "\n",
        "    \n"
      ],
      "execution_count": 120,
      "outputs": []
    },
    {
      "cell_type": "code",
      "metadata": {
        "id": "_JKKx1HaEWbc"
      },
      "source": [
        "Resultlist_num = Numericization(Resultlist)"
      ],
      "execution_count": 121,
      "outputs": []
    },
    {
      "cell_type": "code",
      "metadata": {
        "colab": {
          "base_uri": "https://localhost:8080/"
        },
        "id": "V74XYlF2EXck",
        "outputId": "ecf31667-dcad-4562-cb9e-bca8b541a583"
      },
      "source": [
        "Resultlist_num"
      ],
      "execution_count": 122,
      "outputs": [
        {
          "output_type": "execute_result",
          "data": {
            "text/plain": [
              "[1, 2, 1, 2, 1, -1, 10, 1, 1]"
            ]
          },
          "metadata": {
            "tags": []
          },
          "execution_count": 122
        }
      ]
    },
    {
      "cell_type": "code",
      "metadata": {
        "id": "TD1feRAgGcv9"
      },
      "source": [
        "def CalScore(Resultlist_num):\n",
        "  total_score = 0\n",
        "  round_score = 0\n",
        "  for i in range(0,len(Resultlist_num),3):\n",
        "    if i == 0 or i == 3:\n",
        "      round_score = Resultlist_num[i] ** Resultlist_num[i+1] *Resultlist_num[i+2] *Resultlist_num[i+5]\n",
        "      if Resultlist[i+5] < 0 :\n",
        "        round_score = -round_score\n",
        "    else:\n",
        "      round_score = Resultlist_num[i] ** Resultlist_num[i+1] *Resultlist_num[i+2]\n",
        "    \n",
        "    total_score =total_score + round_score\n",
        "  \n",
        "  return total_score\n"
      ],
      "execution_count": 129,
      "outputs": []
    },
    {
      "cell_type": "code",
      "metadata": {
        "colab": {
          "base_uri": "https://localhost:8080/"
        },
        "id": "VHX5s92UGuKq",
        "outputId": "e56f45f0-2155-4acf-dd41-1d65994d6e94"
      },
      "source": [
        "CalScore(Resultlist_num)"
      ],
      "execution_count": 130,
      "outputs": [
        {
          "output_type": "execute_result",
          "data": {
            "text/plain": [
              "9"
            ]
          },
          "metadata": {
            "tags": []
          },
          "execution_count": 130
        }
      ]
    },
    {
      "cell_type": "code",
      "metadata": {
        "id": "2hdNJMcuGvif"
      },
      "source": [
        ""
      ],
      "execution_count": null,
      "outputs": []
    }
  ]
}