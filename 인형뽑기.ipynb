{
  "nbformat": 4,
  "nbformat_minor": 0,
  "metadata": {
    "colab": {
      "name": "인형뽑기.ipynb",
      "provenance": [],
      "authorship_tag": "ABX9TyPLXHYZcvrFXvDWMwjE6mVg",
      "include_colab_link": true
    },
    "kernelspec": {
      "name": "python3",
      "display_name": "Python 3"
    },
    "language_info": {
      "name": "python"
    }
  },
  "cells": [
    {
      "cell_type": "markdown",
      "metadata": {
        "id": "view-in-github",
        "colab_type": "text"
      },
      "source": [
        "<a href=\"https://colab.research.google.com/github/Leeseonggye/Algorithm_study/blob/main/%EC%9D%B8%ED%98%95%EB%BD%91%EA%B8%B0.ipynb\" target=\"_parent\"><img src=\"https://colab.research.google.com/assets/colab-badge.svg\" alt=\"Open In Colab\"/></a>"
      ]
    },
    {
      "cell_type": "code",
      "metadata": {
        "id": "bqjnJhl5gxfd"
      },
      "source": [
        "board = [[0,0,0,0,0],[0,0,1,0,3],[0,2,5,0,1],[4,2,4,4,2],[3,5,1,3,1]]\t\n",
        "moves = [1,5,3,5,1,2,1,4]\n"
      ],
      "execution_count": 85,
      "outputs": []
    },
    {
      "cell_type": "code",
      "metadata": {
        "id": "qhdfJHwKlVrs"
      },
      "source": [
        "def solution(board, moves):\n",
        "    \n",
        "    get_list = [0]\n",
        "    answer =0\n",
        "\n",
        "    for move in moves:\n",
        "        for i in range(len(board)):\n",
        "            if board[i][move-1] == 0:\n",
        "                pass\n",
        "\n",
        "            elif board[i][move-1] != 0 and board[i][move-1] != get_list[-1]:\n",
        "              get_list.append(board[i][move-1])\n",
        "              board[i][move-1] = 0\n",
        "              break\n",
        "              \n",
        "\n",
        "            elif board[i][move-1] != 0 and board[i][move-1] == get_list[-1]:\n",
        "              del get_list[-1]\n",
        "              answer = answer+2\n",
        "              board[i][move-1] = 0\n",
        "              break\n",
        "\n",
        "            \n",
        "            else:\n",
        "              break\n",
        "              \n",
        "            \n",
        "    return answer"
      ],
      "execution_count": 84,
      "outputs": []
    },
    {
      "cell_type": "code",
      "metadata": {
        "colab": {
          "base_uri": "https://localhost:8080/"
        },
        "id": "GVM1J9CZlXBT",
        "outputId": "0966d178-453d-40f2-abda-da252349c277"
      },
      "source": [
        "solution(board, moves)"
      ],
      "execution_count": 86,
      "outputs": [
        {
          "output_type": "execute_result",
          "data": {
            "text/plain": [
              "(4, [0, 4, 2, 4])"
            ]
          },
          "metadata": {},
          "execution_count": 86
        }
      ]
    },
    {
      "cell_type": "code",
      "metadata": {
        "id": "4HpoAE-sk-v5"
      },
      "source": [
        ""
      ],
      "execution_count": null,
      "outputs": []
    }
  ]
}