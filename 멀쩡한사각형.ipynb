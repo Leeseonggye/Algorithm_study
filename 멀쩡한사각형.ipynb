{
  "nbformat": 4,
  "nbformat_minor": 0,
  "metadata": {
    "colab": {
      "name": "멀쩡한사각형.ipynb",
      "provenance": [],
      "authorship_tag": "ABX9TyOXOfbeMLDnAnnye05l28Bo",
      "include_colab_link": true
    },
    "kernelspec": {
      "name": "python3",
      "display_name": "Python 3"
    },
    "language_info": {
      "name": "python"
    }
  },
  "cells": [
    {
      "cell_type": "markdown",
      "metadata": {
        "id": "view-in-github",
        "colab_type": "text"
      },
      "source": [
        "<a href=\"https://colab.research.google.com/github/Leeseonggye/Algorithm_study/blob/main/%EB%A9%80%EC%A9%A1%ED%95%9C%EC%82%AC%EA%B0%81%ED%98%95.ipynb\" target=\"_parent\"><img src=\"https://colab.research.google.com/assets/colab-badge.svg\" alt=\"Open In Colab\"/></a>"
      ]
    },
    {
      "cell_type": "code",
      "metadata": {
        "id": "bTVApkQJBYRS"
      },
      "source": [
        "def gcd(w,h):\n",
        "    for i in range(1,min(w,h)):\n",
        "        if w%i==0 and h%i == 0:\n",
        "            gcd =i\n",
        "    return gcd\n",
        "\n",
        "\n",
        "import math\n",
        "def solution(w,h):\n",
        "    cnt = 0\n",
        "    \n",
        "    w_batch = w/gcd(w,h)\n",
        "    h_batch = h/gcd(w,h)\n",
        "\n",
        "    for i in range(h_batch):\n",
        "        cnt = cnt + math.ceil(w_batch/h_batch*(i+1)) - int(w_batch/h_batch*i)\n",
        "\n",
        "    answer= w*h - cnt*gcd(w,h)\n",
        "\n",
        "    return answer"
      ],
      "execution_count": 46,
      "outputs": []
    },
    {
      "cell_type": "code",
      "metadata": {
        "colab": {
          "base_uri": "https://localhost:8080/"
        },
        "id": "pqztTsl_6fts",
        "outputId": "db954af5-ea4b-4373-ffc0-0c584f04b6df"
      },
      "source": [
        "solution(1,5000)"
      ],
      "execution_count": 39,
      "outputs": [
        {
          "output_type": "execute_result",
          "data": {
            "text/plain": [
              "(0, 5000)"
            ]
          },
          "metadata": {},
          "execution_count": 39
        }
      ]
    }
  ]
}