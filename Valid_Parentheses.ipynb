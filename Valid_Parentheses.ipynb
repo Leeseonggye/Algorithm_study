{
  "nbformat": 4,
  "nbformat_minor": 0,
  "metadata": {
    "colab": {
      "name": "Valid Parentheses.ipynb",
      "provenance": [],
      "collapsed_sections": [],
      "authorship_tag": "ABX9TyO39K+HOsbTtDniOF+YwWQG",
      "include_colab_link": true
    },
    "kernelspec": {
      "name": "python3",
      "display_name": "Python 3"
    },
    "language_info": {
      "name": "python"
    }
  },
  "cells": [
    {
      "cell_type": "markdown",
      "metadata": {
        "id": "view-in-github",
        "colab_type": "text"
      },
      "source": [
        "<a href=\"https://colab.research.google.com/github/Leeseonggye/Algorithm_study/blob/main/Valid_Parentheses.ipynb\" target=\"_parent\"><img src=\"https://colab.research.google.com/assets/colab-badge.svg\" alt=\"Open In Colab\"/></a>"
      ]
    },
    {
      "cell_type": "code",
      "execution_count": null,
      "metadata": {
        "id": "rFcKhY6FUgD3"
      },
      "outputs": [],
      "source": [
        "class Solution:\n",
        "    def isValid(self, s: str) -> bool:"
      ]
    },
    {
      "cell_type": "code",
      "source": [
        "s = \"(){}}{\""
      ],
      "metadata": {
        "id": "Ni1B8A_vUoff"
      },
      "execution_count": 13,
      "outputs": []
    },
    {
      "cell_type": "code",
      "source": [
        "parenthes_dict = {'(': 1, ')' : -1, '{': 2, '}' : -2, '[': 3, ']':-3  }\n",
        "parenthes_left = ['(','{','[']\n",
        "parenthes_right = [')','}',']']"
      ],
      "metadata": {
        "id": "LMizZNQmUuRR"
      },
      "execution_count": 4,
      "outputs": []
    },
    {
      "cell_type": "code",
      "source": [
        "class Solution:\n",
        "    def isValid(self, s: str) -> bool:\n",
        "        parenthes_dict = {'(': 1, ')' : -1, '{': 2, '}' : -2, '[': 3, ']':-3  }\n",
        "        parenthes_left = ['(','{','[']\n",
        "        parenthes_right = [')','}',']']\n",
        "        \n",
        "        temp = []\n",
        "        answer = True\n",
        "        pair_value = 0\n",
        "\n",
        "        for letter in s:\n",
        "          if letter in parenthes_left:\n",
        "            temp.append(letter)\n",
        "            pair_value = pair_value + parenthes_dict[letter]\n",
        "\n",
        "          elif len(temp) == 0:\n",
        "            answer = False\n",
        "\n",
        "          else:\n",
        "            if parenthes_dict[letter] + parenthes_dict[temp[-1]] == 0:\n",
        "              pair_value = pair_value + parenthes_dict[letter]\n",
        "              temp.pop(-1)\n",
        "\n",
        "            else:\n",
        "              answer = False\n",
        "\n",
        "        if pair_value == 0:\n",
        "          pass\n",
        "\n",
        "        else:\n",
        "          answer = False\n",
        "            \n",
        "        return answer"
      ],
      "metadata": {
        "colab": {
          "base_uri": "https://localhost:8080/"
        },
        "id": "MMbo0GOsW4Vv",
        "outputId": "71db6985-4c7d-43ae-bf99-9109373f6014"
      },
      "execution_count": 7,
      "outputs": [
        {
          "output_type": "execute_result",
          "data": {
            "text/plain": [
              "[]"
            ]
          },
          "metadata": {},
          "execution_count": 7
        }
      ]
    }
  ]
}