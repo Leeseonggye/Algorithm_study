{
  "nbformat": 4,
  "nbformat_minor": 0,
  "metadata": {
    "colab": {
      "name": "신고 결과 받기.ipynb",
      "provenance": [],
      "collapsed_sections": [],
      "authorship_tag": "ABX9TyP2zUAiZqq1IOlCbOYhNEfJ",
      "include_colab_link": true
    },
    "kernelspec": {
      "name": "python3",
      "display_name": "Python 3"
    },
    "language_info": {
      "name": "python"
    }
  },
  "cells": [
    {
      "cell_type": "markdown",
      "metadata": {
        "id": "view-in-github",
        "colab_type": "text"
      },
      "source": [
        "<a href=\"https://colab.research.google.com/github/Leeseonggye/Algorithm_study/blob/main/%EC%8B%A0%EA%B3%A0_%EA%B2%B0%EA%B3%BC_%EB%B0%9B%EA%B8%B0.ipynb\" target=\"_parent\"><img src=\"https://colab.research.google.com/assets/colab-badge.svg\" alt=\"Open In Colab\"/></a>"
      ]
    },
    {
      "cell_type": "code",
      "execution_count": 1,
      "metadata": {
        "id": "XLk6gwdH_7Mg"
      },
      "outputs": [],
      "source": [
        "id_list = [\"muzi\", \"frodo\", \"apeach\", \"neo\"]\n",
        "report = [\"muzi frodo\",\"apeach frodo\",\"frodo neo\",\"muzi neo\",\"apeach muzi\", \"apeach muzi\"]\n",
        "k=2"
      ]
    },
    {
      "cell_type": "code",
      "source": [
        "report_non_duplicated = list(set(report))"
      ],
      "metadata": {
        "id": "WRQH7JitAb_U"
      },
      "execution_count": 2,
      "outputs": []
    },
    {
      "cell_type": "code",
      "source": [
        "pair_split = list(map(lambda x: x.split(), report_non_duplicated))\n",
        "pair_split"
      ],
      "metadata": {
        "colab": {
          "base_uri": "https://localhost:8080/"
        },
        "id": "iEF4TixYAcQv",
        "outputId": "40a97bfb-128d-442c-ebc7-01f684a491d9"
      },
      "execution_count": 4,
      "outputs": [
        {
          "output_type": "execute_result",
          "data": {
            "text/plain": [
              "[['muzi', 'frodo'],\n",
              " ['muzi', 'neo'],\n",
              " ['apeach', 'frodo'],\n",
              " ['apeach', 'muzi'],\n",
              " ['frodo', 'neo']]"
            ]
          },
          "metadata": {},
          "execution_count": 4
        }
      ]
    },
    {
      "cell_type": "code",
      "source": [
        "declared_people = []\n",
        "for word in pair_split:\n",
        "  declared_people.append(word[1])\n",
        "\n",
        "declared_people"
      ],
      "metadata": {
        "colab": {
          "base_uri": "https://localhost:8080/"
        },
        "id": "CKjNQeTTC4XB",
        "outputId": "9c2684cb-90af-4610-e61e-c8e3008f5b1c"
      },
      "execution_count": 6,
      "outputs": [
        {
          "output_type": "execute_result",
          "data": {
            "text/plain": [
              "['frodo', 'neo', 'frodo', 'muzi', 'neo']"
            ]
          },
          "metadata": {},
          "execution_count": 6
        }
      ]
    },
    {
      "cell_type": "code",
      "source": [
        "declared_num_dict = {}\n",
        "for id in id_list:\n",
        "  declared_num_dict[id] = declared_people.count(id)\n",
        "\n",
        "declared_num_dict"
      ],
      "metadata": {
        "colab": {
          "base_uri": "https://localhost:8080/"
        },
        "id": "wH5bT3LQAcWs",
        "outputId": "eb2d682b-b90b-43bb-a08e-8aaab555614f"
      },
      "execution_count": 7,
      "outputs": [
        {
          "output_type": "execute_result",
          "data": {
            "text/plain": [
              "{'apeach': 0, 'frodo': 2, 'muzi': 1, 'neo': 2}"
            ]
          },
          "metadata": {},
          "execution_count": 7
        }
      ]
    },
    {
      "cell_type": "code",
      "source": [
        "declared_people_list = []\n",
        "for id in id_list:\n",
        "  if declared_num_dict[id] >= k:\n",
        "    declared_people_list.append(id)\n",
        "\n",
        "declared_people_list"
      ],
      "metadata": {
        "colab": {
          "base_uri": "https://localhost:8080/"
        },
        "id": "E6CdeCoVDY6F",
        "outputId": "26831b77-0152-4a2b-efaf-e54636881793"
      },
      "execution_count": 11,
      "outputs": [
        {
          "output_type": "execute_result",
          "data": {
            "text/plain": [
              "['frodo', 'neo']"
            ]
          },
          "metadata": {},
          "execution_count": 11
        }
      ]
    },
    {
      "cell_type": "code",
      "source": [
        "declare_people_list = []\n",
        "\n",
        "for word in pair_split:\n",
        "  if word[1] in declared_people_list:\n",
        "    declare_people_list.append(word[0])\n",
        "\n",
        "declare_people_list"
      ],
      "metadata": {
        "colab": {
          "base_uri": "https://localhost:8080/"
        },
        "id": "QZIEKRDxEL1i",
        "outputId": "ed611da5-857f-45d9-a6ad-33df2b452f22"
      },
      "execution_count": 12,
      "outputs": [
        {
          "output_type": "execute_result",
          "data": {
            "text/plain": [
              "['muzi', 'muzi', 'apeach', 'frodo']"
            ]
          },
          "metadata": {},
          "execution_count": 12
        }
      ]
    },
    {
      "cell_type": "code",
      "source": [
        "answer = []\n",
        "for id in id_list:\n",
        "  answer.append(declare_people_list.count(id))\n",
        "\n",
        "answer"
      ],
      "metadata": {
        "colab": {
          "base_uri": "https://localhost:8080/"
        },
        "id": "AUDp4GfNE6W2",
        "outputId": "a0790ed4-e56c-4d6b-909d-c08a633cfca5"
      },
      "execution_count": 13,
      "outputs": [
        {
          "output_type": "execute_result",
          "data": {
            "text/plain": [
              "[2, 1, 1, 0]"
            ]
          },
          "metadata": {},
          "execution_count": 13
        }
      ]
    },
    {
      "cell_type": "code",
      "source": [
        "def solution(id_list, report, k):\n",
        "    report_non_duplicated = list(set(report))\n",
        "    pair_split = list(map(lambda x: x.split(), report_non_duplicated))\n",
        "    declared_people = []\n",
        "    for word in pair_split:\n",
        "        declared_people.append(word[1])\n",
        "    declared_num_dict = {}\n",
        "    for id in id_list:\n",
        "        declared_num_dict[id] = declared_people.count(id)\n",
        "\n",
        "    declared_people_list = []\n",
        "    for id in id_list:\n",
        "        if declared_num_dict[id] >= k:\n",
        "            declared_people_list.append(id)\n",
        "    declare_people_list = []\n",
        "\n",
        "    for word in pair_split:\n",
        "        if word[1] in declared_people_list:\n",
        "            declare_people_list.append(word[0])\n",
        "    answer = []\n",
        "    for id in id_list:\n",
        "        answer.append(declare_people_list.count(id))\n",
        "    return answer"
      ],
      "metadata": {
        "id": "9A-h8pHKACc5"
      },
      "execution_count": null,
      "outputs": []
    }
  ]
}