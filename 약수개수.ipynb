{
  "nbformat": 4,
  "nbformat_minor": 0,
  "metadata": {
    "colab": {
      "name": "약수개수.ipynb",
      "provenance": [],
      "authorship_tag": "ABX9TyNgkSrHA1LIFG8MoABU14Zk",
      "include_colab_link": true
    },
    "kernelspec": {
      "name": "python3",
      "display_name": "Python 3"
    },
    "language_info": {
      "name": "python"
    }
  },
  "cells": [
    {
      "cell_type": "markdown",
      "metadata": {
        "id": "view-in-github",
        "colab_type": "text"
      },
      "source": [
        "<a href=\"https://colab.research.google.com/github/Leeseonggye/Algorithm_study/blob/main/%EC%95%BD%EC%88%98%EA%B0%9C%EC%88%98.ipynb\" target=\"_parent\"><img src=\"https://colab.research.google.com/assets/colab-badge.svg\" alt=\"Open In Colab\"/></a>"
      ]
    },
    {
      "cell_type": "code",
      "metadata": {
        "id": "cI1Ay4vXxxeW"
      },
      "source": [
        "def count(num):\n",
        "  cnt =0\n",
        "  for i in range(1,num+1):\n",
        "    if num%i ==0:\n",
        "      cnt = cnt+1\n",
        "  return cnt"
      ],
      "execution_count": 5,
      "outputs": []
    }
  ]
}