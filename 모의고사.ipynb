{
  "nbformat": 4,
  "nbformat_minor": 0,
  "metadata": {
    "colab": {
      "name": "모의고사.ipynb",
      "provenance": [],
      "collapsed_sections": [],
      "authorship_tag": "ABX9TyNf2VOZE/vL96tdls+bxED6",
      "include_colab_link": true
    },
    "kernelspec": {
      "name": "python3",
      "display_name": "Python 3"
    },
    "language_info": {
      "name": "python"
    }
  },
  "cells": [
    {
      "cell_type": "markdown",
      "metadata": {
        "id": "view-in-github",
        "colab_type": "text"
      },
      "source": [
        "<a href=\"https://colab.research.google.com/github/Leeseonggye/Algorithm_study/blob/main/%EB%AA%A8%EC%9D%98%EA%B3%A0%EC%82%AC.ipynb\" target=\"_parent\"><img src=\"https://colab.research.google.com/assets/colab-badge.svg\" alt=\"Open In Colab\"/></a>"
      ]
    },
    {
      "cell_type": "code",
      "metadata": {
        "id": "lm0EV2Xu0ZeE"
      },
      "source": [
        "def solution(answers):\n",
        "    result = []\n",
        "    len_answers = len(answers)\n",
        "    student_1 = [1,2,3,4,5] * (len_answers//5+1)\n",
        "    student_2 = [2, 1, 2, 3, 2, 4, 2, 5] * (len_answers//8+1)\n",
        "    student_3 = [ 3, 3, 1, 1, 2, 2, 4, 4, 5, 5] *(len_answers//10+1)\n",
        "\n",
        "    cnt = [0,0,0]\n",
        "\n",
        "    for answer,i,j,k in zip(answers,student_1,student_2,student_3):\n",
        "        if answer == i:\n",
        "            cnt[0] +=1\n",
        "        if answer == j:\n",
        "            cnt[1] +=1 \n",
        "        if answer == k:\n",
        "            cnt[2] +=1\n",
        "    \n",
        "    max_cnt = max(cnt)\n",
        "\n",
        "    if max_cnt == cnt[0]:\n",
        "        result.append(1)\n",
        "    if max_cnt == cnt[1]:\n",
        "        result.append(2)\n",
        "    if max_cnt == cnt[2]:\n",
        "        result.append(3)\n",
        "  \n",
        "\n",
        "    return result"
      ],
      "execution_count": 4,
      "outputs": []
    }
  ]
}