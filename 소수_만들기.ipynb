{
  "nbformat": 4,
  "nbformat_minor": 0,
  "metadata": {
    "colab": {
      "name": "소수 만들기.ipynb",
      "provenance": [],
      "collapsed_sections": [],
      "authorship_tag": "ABX9TyOES1+ORmNlfIU1oCuz+Qle",
      "include_colab_link": true
    },
    "kernelspec": {
      "name": "python3",
      "display_name": "Python 3"
    },
    "language_info": {
      "name": "python"
    }
  },
  "cells": [
    {
      "cell_type": "markdown",
      "metadata": {
        "id": "view-in-github",
        "colab_type": "text"
      },
      "source": [
        "<a href=\"https://colab.research.google.com/github/Leeseonggye/Algorithm_study/blob/main/%EC%86%8C%EC%88%98_%EB%A7%8C%EB%93%A4%EA%B8%B0.ipynb\" target=\"_parent\"><img src=\"https://colab.research.google.com/assets/colab-badge.svg\" alt=\"Open In Colab\"/></a>"
      ]
    },
    {
      "cell_type": "code",
      "metadata": {
        "id": "4SCMAmZgvKhX"
      },
      "source": [
        "def isPrime(a):\n",
        "  if(a<2):\n",
        "    return False\n",
        "  for i in range(2,a):\n",
        "    if(a%i==0):\n",
        "      return False\n",
        "  return True\n",
        "\n",
        "\n",
        "prime_num = []\n",
        "\n",
        "for i in range(1,3000):\n",
        "  if isPrime(i) == True:\n",
        "    prime_num.append(i)\n",
        "  else: pass\n",
        "\n",
        "def solution(nums):\n",
        "    answer_list =[]\n",
        "    answer = -1\n",
        "    for i in range(0,len(nums)-2):\n",
        "        for j in range(i+1,len(nums)-1):\n",
        "            for k in range(j+1,len(nums)):\n",
        "                if nums[i]+nums[j]+nums[k] in prime_num:\n",
        "                    answer_list.append(\"(%d,%d,%d,%d)\"%(nums[i],nums[j],nums[k],nums[i]+nums[j]+nums[k]))\n",
        "    \n",
        "    answer = len(answer_list)\n",
        "\n",
        "\n",
        "    return answer"
      ],
      "execution_count": 1,
      "outputs": []
    },
    {
      "cell_type": "code",
      "metadata": {
        "id": "aJS4pooevNJS"
      },
      "source": [
        ""
      ],
      "execution_count": null,
      "outputs": []
    }
  ]
}