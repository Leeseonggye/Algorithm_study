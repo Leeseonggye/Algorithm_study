{
  "nbformat": 4,
  "nbformat_minor": 0,
  "metadata": {
    "colab": {
      "name": "Keypad_opt.ipynb",
      "provenance": [],
      "collapsed_sections": [],
      "authorship_tag": "ABX9TyOehbLjiPD2afwAdNIVbNxX",
      "include_colab_link": true
    },
    "kernelspec": {
      "name": "python3",
      "display_name": "Python 3"
    },
    "language_info": {
      "name": "python"
    }
  },
  "cells": [
    {
      "cell_type": "markdown",
      "metadata": {
        "id": "view-in-github",
        "colab_type": "text"
      },
      "source": [
        "<a href=\"https://colab.research.google.com/github/Leeseonggye/Algorithm_study/blob/main/Keypad_opt.ipynb\" target=\"_parent\"><img src=\"https://colab.research.google.com/assets/colab-badge.svg\" alt=\"Open In Colab\"/></a>"
      ]
    },
    {
      "cell_type": "code",
      "metadata": {
        "colab": {
          "base_uri": "https://localhost:8080/"
        },
        "id": "cEa8a1gm_3-E",
        "outputId": "17f4ff8c-c42a-42bb-d2bd-a5911a119f5e"
      },
      "source": [
        "numbers = list(map(int, input('숫자를 입력하세요').split(',')))"
      ],
      "execution_count": 56,
      "outputs": [
        {
          "name": "stdout",
          "output_type": "stream",
          "text": [
            "숫자를 입력하세요1,2,5,6,8,3,4,5\n"
          ]
        }
      ]
    },
    {
      "cell_type": "code",
      "metadata": {
        "colab": {
          "base_uri": "https://localhost:8080/"
        },
        "id": "TWNcc0coAYdG",
        "outputId": "93b07d54-a752-40c1-b36e-632e7deebf00"
      },
      "source": [
        "hand = input('어느 손 잡이 입니까?:')"
      ],
      "execution_count": 28,
      "outputs": [
        {
          "name": "stdout",
          "output_type": "stream",
          "text": [
            "어느 손 잡이 입니까?:right\n"
          ]
        }
      ]
    },
    {
      "cell_type": "code",
      "metadata": {
        "colab": {
          "base_uri": "https://localhost:8080/"
        },
        "id": "7GXcUJL4RrOL",
        "outputId": "e810300c-f1e1-48b1-950d-0d563e9591b3"
      },
      "source": [
        "cordinate_map"
      ],
      "execution_count": 96,
      "outputs": [
        {
          "output_type": "execute_result",
          "data": {
            "text/plain": [
              "{'#': (3, 2),\n",
              " '*': (3, 0),\n",
              " 0: (3, 1),\n",
              " 1: (0, 0),\n",
              " 2: (0, 1),\n",
              " 3: (0, 2),\n",
              " 4: (1, 0),\n",
              " 5: (1, 1),\n",
              " 6: (1, 2),\n",
              " 7: (2, 0),\n",
              " 8: (2, 1),\n",
              " 9: (2, 2)}"
            ]
          },
          "metadata": {},
          "execution_count": 96
        }
      ]
    },
    {
      "cell_type": "code",
      "metadata": {
        "id": "MA3IsMy3Jg05"
      },
      "source": [
        "cordinate_map = {}\n",
        "for i in range(1,10):\n",
        "  cordinate_map[i] = ((i-1)//3,(i-1)%3)\n"
      ],
      "execution_count": 94,
      "outputs": []
    },
    {
      "cell_type": "code",
      "metadata": {
        "id": "e1PbE6pMKdAZ"
      },
      "source": [
        "cordinate_map[0] = (3,1)\n",
        "cordinate_map['*'] = (3,0)\n",
        "cordinate_map['#'] = (3,2)\n"
      ],
      "execution_count": 95,
      "outputs": []
    },
    {
      "cell_type": "code",
      "metadata": {
        "id": "3xZGaXvJMn1j"
      },
      "source": [
        "def solution(numbers,hand):\n",
        "  if hand == 'right':\n",
        "    hand = 'R'\n",
        "  else:\n",
        "    hand = 'L'\n",
        "  \n",
        "  Left_state = '*'\n",
        "  Right_state = '#'\n",
        "  answer =''\n",
        "\n",
        "  for i in range(len(numbers)):\n",
        "    if numbers[i]%3 == 1:\n",
        "      answer = answer + 'L'\n",
        "      Left_state = numbers[i]\n",
        "    \n",
        "    elif numbers[i]%3 == 0 and numbers[i] != 0:\n",
        "      answer = answer + 'R'\n",
        "      Right_state = numbers[i]\n",
        "    \n",
        "    else:\n",
        "      if (abs(cordinate_map[Left_state][0]-cordinate_map[numbers[i]][0])+abs(cordinate_map[Left_state][1]-cordinate_map[numbers[i]][1])) > (abs(cordinate_map[Right_state][0]-cordinate_map[numbers[i]][0])+abs(cordinate_map[Right_state][1]-cordinate_map[numbers[i]][1])):\n",
        "        answer = answer + 'R'\n",
        "        Right_state = numbers[i]\n",
        "      \n",
        "      elif (abs(cordinate_map[Left_state][0]-cordinate_map[numbers[i]][0])+abs(cordinate_map[Left_state][1]-cordinate_map[numbers[i]][1])) == (abs(cordinate_map[Right_state][0]-cordinate_map[numbers[i]][0])+abs(cordinate_map[Right_state][1]-cordinate_map[numbers[i]][1])):\n",
        "        answer = answer + hand\n",
        "        if hand == 'L':\n",
        "          Left_state = numbers[i]\n",
        "        else:\n",
        "          Right_state = numbers[i]\n",
        "      \n",
        "      else:\n",
        "        answer = answer + 'L'\n",
        "        Left_state = numbers[i]\n",
        "    \n",
        "  return answer\n"
      ],
      "execution_count": 97,
      "outputs": []
    },
    {
      "cell_type": "code",
      "metadata": {
        "colab": {
          "base_uri": "https://localhost:8080/",
          "height": 36
        },
        "id": "EK2T7eOAQvLn",
        "outputId": "ed0bb854-edd8-4860-bfce-ee4dc7238de7"
      },
      "source": [
        "solution(numbers,hand)"
      ],
      "execution_count": 92,
      "outputs": [
        {
          "output_type": "execute_result",
          "data": {
            "application/vnd.google.colaboratory.intrinsic+json": {
              "type": "string"
            },
            "text/plain": [
              "'LLLRLRLL'"
            ]
          },
          "metadata": {},
          "execution_count": 92
        }
      ]
    }
  ]
}