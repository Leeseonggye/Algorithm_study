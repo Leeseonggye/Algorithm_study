{
  "nbformat": 4,
  "nbformat_minor": 0,
  "metadata": {
    "colab": {
      "name": "예상대진표.ipynb",
      "provenance": [],
      "collapsed_sections": [],
      "authorship_tag": "ABX9TyPxtklBEJEcETGitVX9Rvun",
      "include_colab_link": true
    },
    "kernelspec": {
      "name": "python3",
      "display_name": "Python 3"
    },
    "language_info": {
      "name": "python"
    }
  },
  "cells": [
    {
      "cell_type": "markdown",
      "metadata": {
        "id": "view-in-github",
        "colab_type": "text"
      },
      "source": [
        "<a href=\"https://colab.research.google.com/github/Leeseonggye/Algorithm_study/blob/main/%EC%98%88%EC%83%81%EB%8C%80%EC%A7%84%ED%91%9C.ipynb\" target=\"_parent\"><img src=\"https://colab.research.google.com/assets/colab-badge.svg\" alt=\"Open In Colab\"/></a>"
      ]
    },
    {
      "cell_type": "code",
      "metadata": {
        "id": "N7DQD3rnCH53"
      },
      "source": [
        "n = 2**10\n",
        "a = 153\n",
        "b= 358"
      ],
      "execution_count": 24,
      "outputs": []
    },
    {
      "cell_type": "code",
      "metadata": {
        "id": "XY82Mtr7Fy94"
      },
      "source": [
        "def number(a):\n",
        "  if a%2 ==0:\n",
        "    a = int(a/2)\n",
        "  else:\n",
        "    a = int(a/2)+1\n",
        "  return a"
      ],
      "execution_count": 12,
      "outputs": []
    },
    {
      "cell_type": "code",
      "metadata": {
        "id": "TomfoKYrCTQj"
      },
      "source": [
        "def solution(n,a,b):\n",
        "  aa = min(a,b)\n",
        "  bb = max(a,b)\n",
        "  if bb - aa ==1 and bb%2 ==0:\n",
        "    return 1\n",
        "  cnt = 1\n",
        "  while bb - aa > 1 or bb%2 ==1:\n",
        "    cnt = cnt+1\n",
        "    aa = number(aa)\n",
        "    bb = number(bb)\n",
        "  return cnt\n"
      ],
      "execution_count": 35,
      "outputs": []
    },
    {
      "cell_type": "code",
      "metadata": {
        "colab": {
          "base_uri": "https://localhost:8080/"
        },
        "id": "eAs_JfYkGPlo",
        "outputId": "e1d74092-05d4-4454-a290-e0d77321ef1e"
      },
      "source": [
        "solution(n,a,b)\n"
      ],
      "execution_count": 36,
      "outputs": [
        {
          "output_type": "execute_result",
          "data": {
            "text/plain": [
              "9"
            ]
          },
          "metadata": {},
          "execution_count": 36
        }
      ]
    }
  ]
}