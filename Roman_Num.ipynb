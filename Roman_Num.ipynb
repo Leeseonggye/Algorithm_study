{
  "nbformat": 4,
  "nbformat_minor": 0,
  "metadata": {
    "colab": {
      "name": "Roman_Num.ipynb",
      "provenance": [],
      "collapsed_sections": [],
      "authorship_tag": "ABX9TyO95JH3qjMVkfUfjC51RIff",
      "include_colab_link": true
    },
    "kernelspec": {
      "name": "python3",
      "display_name": "Python 3"
    },
    "language_info": {
      "name": "python"
    }
  },
  "cells": [
    {
      "cell_type": "markdown",
      "metadata": {
        "id": "view-in-github",
        "colab_type": "text"
      },
      "source": [
        "<a href=\"https://colab.research.google.com/github/Leeseonggye/Algorithm_study/blob/main/Roman_Num.ipynb\" target=\"_parent\"><img src=\"https://colab.research.google.com/assets/colab-badge.svg\" alt=\"Open In Colab\"/></a>"
      ]
    },
    {
      "cell_type": "code",
      "execution_count": 41,
      "metadata": {
        "id": "pVt3F_MeOKi9"
      },
      "outputs": [],
      "source": [
        "class Solution:\n",
        "    def romanToInt(self, s: str) -> int:\n",
        "      substitute_dict = {'I':1, 'V' : 5, 'X': 10, 'L': 50, 'C': 100, 'D':500, 'M': 1000}\n",
        "\n",
        "      answer = 0\n",
        "      for i in range(0, len(s)-1):\n",
        "        if substitute_dict[s[i]] < substitute_dict[s[i+1]]:\n",
        "          answer -= substitute_dict[s[i]]\n",
        "        else:\n",
        "          answer += substitute_dict[s[i]]\n",
        "      \n",
        "      return answer + substitute_dict[s[-1]]"
      ]
    }
  ]
}