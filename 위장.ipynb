{
  "nbformat": 4,
  "nbformat_minor": 0,
  "metadata": {
    "colab": {
      "name": "위장.ipynb",
      "provenance": [],
      "collapsed_sections": [],
      "authorship_tag": "ABX9TyP9AOSxg6fmY9cZqQomT4nf",
      "include_colab_link": true
    },
    "kernelspec": {
      "name": "python3",
      "display_name": "Python 3"
    },
    "language_info": {
      "name": "python"
    }
  },
  "cells": [
    {
      "cell_type": "markdown",
      "metadata": {
        "id": "view-in-github",
        "colab_type": "text"
      },
      "source": [
        "<a href=\"https://colab.research.google.com/github/Leeseonggye/Algorithm_study/blob/main/%EC%9C%84%EC%9E%A5.ipynb\" target=\"_parent\"><img src=\"https://colab.research.google.com/assets/colab-badge.svg\" alt=\"Open In Colab\"/></a>"
      ]
    },
    {
      "cell_type": "code",
      "metadata": {
        "id": "1moLMtOyziDS"
      },
      "source": [
        "clothes = [[\"yellow_hat\", \"headgear\"], [\"blue_sunglasses\", \"eyewear\"], [\"green_turban\", \"headgear\"]]"
      ],
      "execution_count": 24,
      "outputs": []
    },
    {
      "cell_type": "code",
      "metadata": {
        "colab": {
          "base_uri": "https://localhost:8080/"
        },
        "id": "2U9piHys1yI4",
        "outputId": "3a23c9bb-58ad-4e31-fb59-ffbb62c3e5a3"
      },
      "source": [
        "len(clothes)"
      ],
      "execution_count": 25,
      "outputs": [
        {
          "output_type": "execute_result",
          "data": {
            "text/plain": [
              "3"
            ]
          },
          "metadata": {},
          "execution_count": 25
        }
      ]
    },
    {
      "cell_type": "code",
      "metadata": {
        "id": "HKzqfX8H1Yu1"
      },
      "source": [
        "clothes_key = []\n",
        "for i in range(len(clothes)):\n",
        "  clothes_key.append(clothes[i][1])\n",
        "\n",
        "clothes_key_set = set(clothes_key)\n",
        "clothes_key_new = list(clothes_key_set)\n",
        "\n"
      ],
      "execution_count": 26,
      "outputs": []
    },
    {
      "cell_type": "code",
      "metadata": {
        "id": "i8XUzeOA2Sdy"
      },
      "source": [
        "clothes_dict = {}\n",
        "cnt = 0\n",
        "for key in clothes_key_new:\n",
        "  clothes_dict[key] = 0"
      ],
      "execution_count": 27,
      "outputs": []
    },
    {
      "cell_type": "code",
      "metadata": {
        "colab": {
          "base_uri": "https://localhost:8080/"
        },
        "id": "w30ULQ0a6JNo",
        "outputId": "fc4a5449-d2f1-4fa4-90ed-82b1e88ad19c"
      },
      "source": [
        "clothes_dict"
      ],
      "execution_count": 28,
      "outputs": [
        {
          "output_type": "execute_result",
          "data": {
            "text/plain": [
              "{'eyewear': 0, 'headgear': 0}"
            ]
          },
          "metadata": {},
          "execution_count": 28
        }
      ]
    },
    {
      "cell_type": "code",
      "metadata": {
        "id": "Ycm94J3N2VLk"
      },
      "source": [
        "cnt = 0\n",
        "\n",
        "for cloth in clothes:\n",
        "  for key in clothes_dict.keys():\n",
        "    if cloth[1] == key:\n",
        "      clothes_dict[key] +=1\n",
        "  "
      ],
      "execution_count": 29,
      "outputs": []
    },
    {
      "cell_type": "code",
      "metadata": {
        "colab": {
          "base_uri": "https://localhost:8080/"
        },
        "id": "Bc2UtvGa4e02",
        "outputId": "0c689720-e85d-4a1c-8534-3af5832c770d"
      },
      "source": [
        "clothes_dict"
      ],
      "execution_count": 30,
      "outputs": [
        {
          "output_type": "execute_result",
          "data": {
            "text/plain": [
              "{'eyewear': 1, 'headgear': 2}"
            ]
          },
          "metadata": {},
          "execution_count": 30
        }
      ]
    },
    {
      "cell_type": "code",
      "metadata": {
        "id": "AaeCO9n56scH"
      },
      "source": [
        "answer = 1\n",
        "for key in clothes_dict.keys():\n",
        "  answer = answer * (clothes_dict.get(key)+1)\n",
        "\n",
        "answer = answer -1"
      ],
      "execution_count": 31,
      "outputs": []
    },
    {
      "cell_type": "code",
      "metadata": {
        "colab": {
          "base_uri": "https://localhost:8080/"
        },
        "id": "v4SPXKod7Qco",
        "outputId": "925caa8c-bc8d-4cf7-f672-d8b27596e0f2"
      },
      "source": [
        "answer"
      ],
      "execution_count": 32,
      "outputs": [
        {
          "output_type": "execute_result",
          "data": {
            "text/plain": [
              "5"
            ]
          },
          "metadata": {},
          "execution_count": 32
        }
      ]
    },
    {
      "cell_type": "code",
      "metadata": {
        "id": "u2MVpYv47RSB"
      },
      "source": [
        ""
      ],
      "execution_count": null,
      "outputs": []
    }
  ]
}