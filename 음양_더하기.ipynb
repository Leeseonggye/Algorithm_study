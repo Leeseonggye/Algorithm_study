{
  "nbformat": 4,
  "nbformat_minor": 0,
  "metadata": {
    "colab": {
      "name": "음양 더하기.ipynb",
      "provenance": [],
      "collapsed_sections": [],
      "authorship_tag": "ABX9TyNh3l9Cq6n0kicHTelf2O7X",
      "include_colab_link": true
    },
    "kernelspec": {
      "name": "python3",
      "display_name": "Python 3"
    },
    "language_info": {
      "name": "python"
    }
  },
  "cells": [
    {
      "cell_type": "markdown",
      "metadata": {
        "id": "view-in-github",
        "colab_type": "text"
      },
      "source": [
        "<a href=\"https://colab.research.google.com/github/Leeseonggye/Algorithm_study/blob/main/%EC%9D%8C%EC%96%91_%EB%8D%94%ED%95%98%EA%B8%B0.ipynb\" target=\"_parent\"><img src=\"https://colab.research.google.com/assets/colab-badge.svg\" alt=\"Open In Colab\"/></a>"
      ]
    },
    {
      "cell_type": "code",
      "metadata": {
        "id": "pUv0klXIuACf"
      },
      "source": [
        "absolutes = [4,7,12]\n",
        "signs = [True,False,True]\t"
      ],
      "execution_count": 2,
      "outputs": []
    },
    {
      "cell_type": "code",
      "metadata": {
        "id": "uKSkvKgeuPWY"
      },
      "source": [
        "def solution(absolutes, signs):\n",
        "    answer = 0\n",
        "    for i in range(len(absolutes)):\n",
        "        if signs[i] == True:\n",
        "            answer = answer + absolutes[i]\n",
        "        else:\n",
        "            answer = answer - absolutes[i]\n",
        "    return answer"
      ],
      "execution_count": 3,
      "outputs": []
    },
    {
      "cell_type": "code",
      "metadata": {
        "id": "AuApFbWLu2G6"
      },
      "source": [
        ""
      ],
      "execution_count": null,
      "outputs": []
    }
  ]
}